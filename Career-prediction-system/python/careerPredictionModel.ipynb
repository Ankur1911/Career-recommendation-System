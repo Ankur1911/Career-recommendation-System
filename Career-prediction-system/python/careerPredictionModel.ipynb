{
 "cells": [
  {
   "attachments": {},
   "cell_type": "markdown",
   "metadata": {},
   "source": [
    "## **Import required Libraries** "
   ]
  },
  {
   "cell_type": "code",
   "execution_count": 25,
   "metadata": {
    "execution": {
     "iopub.execute_input": "2021-05-21T09:14:42.293965Z",
     "iopub.status.busy": "2021-05-21T09:14:42.293578Z",
     "iopub.status.idle": "2021-05-21T09:14:42.300598Z",
     "shell.execute_reply": "2021-05-21T09:14:42.299138Z",
     "shell.execute_reply.started": "2021-05-21T09:14:42.293932Z"
    }
   },
   "outputs": [],
   "source": [
    "import pandas as pd\n",
    "import numpy as np\n",
    "from sklearn.model_selection import train_test_split\n",
    "from sklearn.metrics import confusion_matrix,accuracy_score\n",
    "from sklearn import svm\n",
    "from sklearn.tree import DecisionTreeClassifier\n",
    "from sklearn.ensemble import RandomForestClassifier\n",
    "from xgboost import XGBClassifier"
   ]
  },
  {
   "attachments": {},
   "cell_type": "markdown",
   "metadata": {},
   "source": [
    "## **Load the Data** "
   ]
  },
  {
   "cell_type": "code",
   "execution_count": 26,
   "metadata": {
    "execution": {
     "iopub.execute_input": "2021-05-21T09:14:43.702487Z",
     "iopub.status.busy": "2021-05-21T09:14:43.701875Z",
     "iopub.status.idle": "2021-05-21T09:14:43.913694Z",
     "shell.execute_reply": "2021-05-21T09:14:43.912306Z",
     "shell.execute_reply.started": "2021-05-21T09:14:43.702436Z"
    }
   },
   "outputs": [
    {
     "name": "stdout",
     "output_type": "stream",
     "text": [
      "hello\n"
     ]
    }
   ],
   "source": [
    "df = pd.read_csv('mldata.csv')\n",
    "# df.head()\n",
    "print(\"hello\")"
   ]
  },
  {
   "cell_type": "code",
   "execution_count": 27,
   "metadata": {
    "execution": {
     "iopub.execute_input": "2021-05-21T09:14:44.069016Z",
     "iopub.status.busy": "2021-05-21T09:14:44.068615Z",
     "iopub.status.idle": "2021-05-21T09:14:44.074579Z",
     "shell.execute_reply": "2021-05-21T09:14:44.073475Z",
     "shell.execute_reply.started": "2021-05-21T09:14:44.068982Z"
    }
   },
   "outputs": [
    {
     "name": "stdout",
     "output_type": "stream",
     "text": [
      "The shape of our training set: 6901 professionals and 20 features\n"
     ]
    }
   ],
   "source": [
    "print('The shape of our training set: %s professionals and %s features'%(df.shape[0],df.shape[1]))"
   ]
  },
  {
   "attachments": {},
   "cell_type": "markdown",
   "metadata": {},
   "source": [
    "## **Feature Engineering** "
   ]
  },
  {
   "cell_type": "markdown",
   "metadata": {},
   "source": [
    "### (1) Binary Encoding for Categorical Variables"
   ]
  },
  {
   "cell_type": "code",
   "execution_count": 28,
   "metadata": {
    "execution": {
     "iopub.execute_input": "2021-05-21T09:15:00.059997Z",
     "iopub.status.busy": "2021-05-21T09:15:00.059636Z",
     "iopub.status.idle": "2021-05-21T09:15:00.101071Z",
     "shell.execute_reply": "2021-05-21T09:15:00.100277Z",
     "shell.execute_reply.started": "2021-05-21T09:15:00.059968Z"
    }
   },
   "outputs": [],
   "source": [
    "cols = df[[\"self-learning capability?\", \"Extra-courses did\",\"Taken inputs from seniors or elders\", \"worked in teams ever?\", \"Introvert\"]]\n",
    "for i in cols:\n",
    "    cleanup_nums = {i: {\"yes\": 1, \"no\": 0}}\n",
    "    df = df.replace(cleanup_nums)"
   ]
  },
  {
   "cell_type": "code",
   "execution_count": 29,
   "metadata": {
    "execution": {
     "iopub.execute_input": "2021-05-21T09:15:00.401318Z",
     "iopub.status.busy": "2021-05-21T09:15:00.400761Z",
     "iopub.status.idle": "2021-05-21T09:15:00.409457Z",
     "shell.execute_reply": "2021-05-21T09:15:00.408574Z",
     "shell.execute_reply.started": "2021-05-21T09:15:00.401280Z"
    }
   },
   "outputs": [
    {
     "name": "stdout",
     "output_type": "stream",
     "text": [
      "\n",
      "\n",
      "List of Categorical features: \n",
      " ['certifications', 'workshops', 'reading and writing skills', 'memory capability score', 'Interested subjects', 'interested career area ', 'Type of company want to settle in?', 'Interested Type of Books', 'Management or Technical', 'hard/smart worker', 'Suggested Job Role']\n"
     ]
    }
   ],
   "source": [
    "print(\"\\n\\nList of Categorical features: \\n\" , df.select_dtypes(include=['object']).columns.tolist())"
   ]
  },
  {
   "cell_type": "markdown",
   "metadata": {},
   "source": [
    "### (2) Number Encoding for Categorical "
   ]
  },
  {
   "cell_type": "code",
   "execution_count": 30,
   "metadata": {
    "execution": {
     "iopub.execute_input": "2021-05-21T09:15:02.630142Z",
     "iopub.status.busy": "2021-05-21T09:15:02.629617Z",
     "iopub.status.idle": "2021-05-21T09:15:02.680281Z",
     "shell.execute_reply": "2021-05-21T09:15:02.679472Z",
     "shell.execute_reply.started": "2021-05-21T09:15:02.630109Z"
    }
   },
   "outputs": [
    {
     "name": "stdout",
     "output_type": "stream",
     "text": [
      "\n",
      "\n",
      "List of Categorical features: \n",
      " ['Management or Technical', 'hard/smart worker', 'Suggested Job Role']\n"
     ]
    }
   ],
   "source": [
    "mycol = df[[\"reading and writing skills\", \"memory capability score\"]]\n",
    "for i in mycol:\n",
    "    cleanup_nums = {i: {\"poor\": 0, \"medium\": 1, \"excellent\": 2}}\n",
    "    df = df.replace(cleanup_nums)\n",
    "\n",
    "category_cols = df[['certifications', 'workshops', 'Interested subjects', 'interested career area ', 'Type of company want to settle in?', \n",
    "                    'Interested Type of Books']]\n",
    "dic={}\n",
    "for i in category_cols:\n",
    "    df[i] = df[i].astype('category')\n",
    "    df[i + \"_code\"] = df[i].cat.codes\n",
    "    dic[i]=dict(enumerate(df[i].cat.categories))\n",
    "    # print(dic[i])\n",
    "\n",
    "print(\"\\n\\nList of Categorical features: \\n\" , df.select_dtypes(include=['object']).columns.tolist())"
   ]
  },
  {
   "cell_type": "markdown",
   "metadata": {},
   "source": [
    "### (3) Dummy Variable Encoding"
   ]
  },
  {
   "cell_type": "code",
   "execution_count": 31,
   "metadata": {
    "execution": {
     "iopub.execute_input": "2021-05-21T09:15:04.145103Z",
     "iopub.status.busy": "2021-05-21T09:15:04.144613Z",
     "iopub.status.idle": "2021-05-21T09:15:04.152520Z",
     "shell.execute_reply": "2021-05-21T09:15:04.151594Z",
     "shell.execute_reply.started": "2021-05-21T09:15:04.145064Z"
    }
   },
   "outputs": [
    {
     "name": "stdout",
     "output_type": "stream",
     "text": [
      "['Management' 'Technical']\n",
      "['smart worker' 'hard worker']\n"
     ]
    }
   ],
   "source": [
    "print(df['Management or Technical'].unique())\n",
    "print(df['hard/smart worker'].unique())"
   ]
  },
  {
   "cell_type": "code",
   "execution_count": 34,
   "metadata": {
    "execution": {
     "iopub.execute_input": "2021-05-21T09:15:05.552686Z",
     "iopub.status.busy": "2021-05-21T09:15:05.552121Z",
     "iopub.status.idle": "2021-05-21T09:15:05.585075Z",
     "shell.execute_reply": "2021-05-21T09:15:05.584283Z",
     "shell.execute_reply.started": "2021-05-21T09:15:05.552609Z"
    }
   },
   "outputs": [
    {
     "data": {
      "text/html": [
       "<div>\n",
       "<style scoped>\n",
       "    .dataframe tbody tr th:only-of-type {\n",
       "        vertical-align: middle;\n",
       "    }\n",
       "\n",
       "    .dataframe tbody tr th {\n",
       "        vertical-align: top;\n",
       "    }\n",
       "\n",
       "    .dataframe thead th {\n",
       "        text-align: right;\n",
       "    }\n",
       "</style>\n",
       "<table border=\"1\" class=\"dataframe\">\n",
       "  <thead>\n",
       "    <tr style=\"text-align: right;\">\n",
       "      <th></th>\n",
       "      <th>Logical quotient rating</th>\n",
       "      <th>hackathons</th>\n",
       "      <th>coding skills rating</th>\n",
       "      <th>public speaking points</th>\n",
       "      <th>self-learning capability?</th>\n",
       "      <th>Extra-courses did</th>\n",
       "      <th>certifications</th>\n",
       "      <th>workshops</th>\n",
       "      <th>reading and writing skills</th>\n",
       "      <th>memory capability score</th>\n",
       "      <th>...</th>\n",
       "      <th>certifications_code</th>\n",
       "      <th>workshops_code</th>\n",
       "      <th>Interested subjects_code</th>\n",
       "      <th>interested career area _code</th>\n",
       "      <th>Type of company want to settle in?_code</th>\n",
       "      <th>Interested Type of Books_code</th>\n",
       "      <th>A_Management</th>\n",
       "      <th>A_Technical</th>\n",
       "      <th>B_hard worker</th>\n",
       "      <th>B_smart worker</th>\n",
       "    </tr>\n",
       "  </thead>\n",
       "  <tbody>\n",
       "    <tr>\n",
       "      <th>0</th>\n",
       "      <td>5</td>\n",
       "      <td>0</td>\n",
       "      <td>6</td>\n",
       "      <td>2</td>\n",
       "      <td>1</td>\n",
       "      <td>0</td>\n",
       "      <td>information security</td>\n",
       "      <td>testing</td>\n",
       "      <td>0</td>\n",
       "      <td>0</td>\n",
       "      <td>...</td>\n",
       "      <td>4</td>\n",
       "      <td>6</td>\n",
       "      <td>9</td>\n",
       "      <td>5</td>\n",
       "      <td>0</td>\n",
       "      <td>28</td>\n",
       "      <td>1</td>\n",
       "      <td>0</td>\n",
       "      <td>0</td>\n",
       "      <td>1</td>\n",
       "    </tr>\n",
       "    <tr>\n",
       "      <th>1</th>\n",
       "      <td>7</td>\n",
       "      <td>6</td>\n",
       "      <td>4</td>\n",
       "      <td>3</td>\n",
       "      <td>0</td>\n",
       "      <td>1</td>\n",
       "      <td>shell programming</td>\n",
       "      <td>testing</td>\n",
       "      <td>2</td>\n",
       "      <td>1</td>\n",
       "      <td>...</td>\n",
       "      <td>8</td>\n",
       "      <td>6</td>\n",
       "      <td>2</td>\n",
       "      <td>4</td>\n",
       "      <td>1</td>\n",
       "      <td>3</td>\n",
       "      <td>0</td>\n",
       "      <td>1</td>\n",
       "      <td>1</td>\n",
       "      <td>0</td>\n",
       "    </tr>\n",
       "    <tr>\n",
       "      <th>2</th>\n",
       "      <td>2</td>\n",
       "      <td>3</td>\n",
       "      <td>9</td>\n",
       "      <td>1</td>\n",
       "      <td>0</td>\n",
       "      <td>1</td>\n",
       "      <td>information security</td>\n",
       "      <td>testing</td>\n",
       "      <td>2</td>\n",
       "      <td>0</td>\n",
       "      <td>...</td>\n",
       "      <td>4</td>\n",
       "      <td>6</td>\n",
       "      <td>5</td>\n",
       "      <td>0</td>\n",
       "      <td>9</td>\n",
       "      <td>29</td>\n",
       "      <td>0</td>\n",
       "      <td>1</td>\n",
       "      <td>0</td>\n",
       "      <td>1</td>\n",
       "    </tr>\n",
       "    <tr>\n",
       "      <th>3</th>\n",
       "      <td>2</td>\n",
       "      <td>6</td>\n",
       "      <td>3</td>\n",
       "      <td>5</td>\n",
       "      <td>0</td>\n",
       "      <td>1</td>\n",
       "      <td>r programming</td>\n",
       "      <td>database security</td>\n",
       "      <td>2</td>\n",
       "      <td>0</td>\n",
       "      <td>...</td>\n",
       "      <td>7</td>\n",
       "      <td>2</td>\n",
       "      <td>7</td>\n",
       "      <td>5</td>\n",
       "      <td>7</td>\n",
       "      <td>13</td>\n",
       "      <td>1</td>\n",
       "      <td>0</td>\n",
       "      <td>0</td>\n",
       "      <td>1</td>\n",
       "    </tr>\n",
       "    <tr>\n",
       "      <th>4</th>\n",
       "      <td>2</td>\n",
       "      <td>0</td>\n",
       "      <td>3</td>\n",
       "      <td>4</td>\n",
       "      <td>1</td>\n",
       "      <td>0</td>\n",
       "      <td>distro making</td>\n",
       "      <td>game development</td>\n",
       "      <td>2</td>\n",
       "      <td>1</td>\n",
       "      <td>...</td>\n",
       "      <td>1</td>\n",
       "      <td>3</td>\n",
       "      <td>3</td>\n",
       "      <td>4</td>\n",
       "      <td>0</td>\n",
       "      <td>14</td>\n",
       "      <td>0</td>\n",
       "      <td>1</td>\n",
       "      <td>1</td>\n",
       "      <td>0</td>\n",
       "    </tr>\n",
       "  </tbody>\n",
       "</table>\n",
       "<p>5 rows × 28 columns</p>\n",
       "</div>"
      ],
      "text/plain": [
       "   Logical quotient rating  hackathons  coding skills rating  \\\n",
       "0                        5           0                     6   \n",
       "1                        7           6                     4   \n",
       "2                        2           3                     9   \n",
       "3                        2           6                     3   \n",
       "4                        2           0                     3   \n",
       "\n",
       "   public speaking points  self-learning capability?  Extra-courses did  \\\n",
       "0                       2                          1                  0   \n",
       "1                       3                          0                  1   \n",
       "2                       1                          0                  1   \n",
       "3                       5                          0                  1   \n",
       "4                       4                          1                  0   \n",
       "\n",
       "         certifications          workshops  reading and writing skills  \\\n",
       "0  information security            testing                           0   \n",
       "1     shell programming            testing                           2   \n",
       "2  information security            testing                           2   \n",
       "3         r programming  database security                           2   \n",
       "4         distro making   game development                           2   \n",
       "\n",
       "   memory capability score  ... certifications_code workshops_code  \\\n",
       "0                        0  ...                   4              6   \n",
       "1                        1  ...                   8              6   \n",
       "2                        0  ...                   4              6   \n",
       "3                        0  ...                   7              2   \n",
       "4                        1  ...                   1              3   \n",
       "\n",
       "  Interested subjects_code  interested career area _code  \\\n",
       "0                        9                             5   \n",
       "1                        2                             4   \n",
       "2                        5                             0   \n",
       "3                        7                             5   \n",
       "4                        3                             4   \n",
       "\n",
       "  Type of company want to settle in?_code  Interested Type of Books_code  \\\n",
       "0                                       0                             28   \n",
       "1                                       1                              3   \n",
       "2                                       9                             29   \n",
       "3                                       7                             13   \n",
       "4                                       0                             14   \n",
       "\n",
       "   A_Management A_Technical  B_hard worker  B_smart worker  \n",
       "0             1           0              0               1  \n",
       "1             0           1              1               0  \n",
       "2             0           1              0               1  \n",
       "3             1           0              0               1  \n",
       "4             0           1              1               0  \n",
       "\n",
       "[5 rows x 28 columns]"
      ]
     },
     "execution_count": 34,
     "metadata": {},
     "output_type": "execute_result"
    }
   ],
   "source": [
    "df = pd.get_dummies(df, columns=[\"Management or Technical\", \"hard/smart worker\"], prefix=[\"A\", \"B\"])\n",
    "df.head()"
   ]
  },
  {
   "cell_type": "code",
   "execution_count": 32,
   "metadata": {
    "execution": {
     "iopub.execute_input": "2021-05-21T09:15:06.492745Z",
     "iopub.status.busy": "2021-05-21T09:15:06.492131Z",
     "iopub.status.idle": "2021-05-21T09:15:06.506687Z",
     "shell.execute_reply": "2021-05-21T09:15:06.505612Z",
     "shell.execute_reply.started": "2021-05-21T09:15:06.492706Z"
    }
   },
   "outputs": [
    {
     "name": "stdout",
     "output_type": "stream",
     "text": [
      "List of Numerical features: \n",
      " ['Logical quotient rating', 'hackathons', 'coding skills rating', 'public speaking points', 'self-learning capability?', 'Extra-courses did', 'reading and writing skills', 'memory capability score', 'Taken inputs from seniors or elders', 'worked in teams ever?', 'Introvert', 'certifications_code', 'workshops_code', 'Interested subjects_code', 'interested career area _code', 'Type of company want to settle in?_code', 'Interested Type of Books_code']\n"
     ]
    }
   ],
   "source": [
    "print(\"List of Numerical features: \\n\" , df.select_dtypes(include=np.number).columns.tolist())"
   ]
  },
  {
   "attachments": {},
   "cell_type": "markdown",
   "metadata": {},
   "source": [
    "## **Building Machine Learning Model**"
   ]
  },
  {
   "cell_type": "code",
   "execution_count": 35,
   "metadata": {
    "execution": {
     "iopub.execute_input": "2021-05-21T09:15:08.496869Z",
     "iopub.status.busy": "2021-05-21T09:15:08.496508Z",
     "iopub.status.idle": "2021-05-21T09:15:08.512249Z",
     "shell.execute_reply": "2021-05-21T09:15:08.510942Z",
     "shell.execute_reply.started": "2021-05-21T09:15:08.496837Z"
    }
   },
   "outputs": [],
   "source": [
    "feed = df[['Logical quotient rating', 'coding skills rating', 'hackathons', 'public speaking points', 'self-learning capability?','Extra-courses did', \n",
    "           'Taken inputs from seniors or elders', 'worked in teams ever?', 'Introvert', 'reading and writing skills', 'memory capability score',  \n",
    "           'B_hard worker', 'B_smart worker', 'A_Management', 'A_Technical', 'Interested subjects_code', 'Interested Type of Books_code', 'certifications_code', \n",
    "           'workshops_code', 'Type of company want to settle in?_code',  'interested career area _code',\n",
    "             'Suggested Job Role']]\n",
    "\n",
    "# Taking all independent variable columns\n",
    "df_train_x = feed.drop('Suggested Job Role',axis = 1)\n",
    "\n",
    "# Target variable column\n",
    "df_train_y = feed['Suggested Job Role']\n",
    "\n",
    "x_train, x_test, y_train, y_test = train_test_split(df_train_x, df_train_y, test_size=0.20, random_state=42)\n"
   ]
  },
  {
   "cell_type": "markdown",
   "metadata": {},
   "source": [
    "### **(1) Decision Tree Classifier**"
   ]
  },
  {
   "cell_type": "code",
   "execution_count": 49,
   "metadata": {
    "execution": {
     "iopub.execute_input": "2021-05-21T09:15:13.994959Z",
     "iopub.status.busy": "2021-05-21T09:15:13.994602Z",
     "iopub.status.idle": "2021-05-21T09:15:14.071007Z",
     "shell.execute_reply": "2021-05-21T09:15:14.069396Z",
     "shell.execute_reply.started": "2021-05-21T09:15:13.994928Z"
    }
   },
   "outputs": [
    {
     "name": "stdout",
     "output_type": "stream",
     "text": [
      "confusion matrics= [[11 11 11  8 13 15 12 10  7 10 14 10]\n",
      " [10  4  6  8  5  7 11 13 17  7  8  9]\n",
      " [13  9 11  8 12 10 11 12  5 10  8 14]\n",
      " [ 5 10 12  7  5  8  6 10  4  7 14 12]\n",
      " [ 8 11  9 12 14 10  6  8  7  9 16 11]\n",
      " [12 13  8  9 13 12  4  7 11 10 11  3]\n",
      " [ 8 15 12  9  9  7 15  7  7 11 11  5]\n",
      " [10  9  7  3 14 11 18 11 15  8  6  6]\n",
      " [11  7 10 13  7 12 12  8  7  6  7 14]\n",
      " [ 9 10 10  8 18  8  7  6  9  9 11  6]\n",
      " [ 7 14  5 13  9 10 11  9  9 10 12 10]\n",
      " [ 9 10  9 15 10  9  7  5 14  7  6  8]]\n",
      "  \n",
      "accuracy= 0.8761766835626359\n"
     ]
    }
   ],
   "source": [
    "dtree = DecisionTreeClassifier(random_state=1)\n",
    "dtree = dtree.fit(x_train, y_train)\n",
    "\n",
    "y_pred = dtree.predict(x_test)\n",
    "cm = confusion_matrix(y_test,y_pred)\n",
    "accuracy = accuracy_score(y_test,y_pred)\n",
    "print(\"confusion matrics=\",cm)\n",
    "print(\"  \")\n",
    "print(\"accuracy=\",accuracy*10)"
   ]
  },
  {
   "cell_type": "markdown",
   "metadata": {},
   "source": [
    "### **Predicting class for one instance**"
   ]
  },
  {
   "cell_type": "code",
   "execution_count": 57,
   "metadata": {
    "execution": {
     "iopub.execute_input": "2021-05-21T09:15:16.340785Z",
     "iopub.status.busy": "2021-05-21T09:15:16.340422Z",
     "iopub.status.idle": "2021-05-21T09:15:16.349794Z",
     "shell.execute_reply": "2021-05-21T09:15:16.348558Z",
     "shell.execute_reply.started": "2021-05-21T09:15:16.340753Z"
    }
   },
   "outputs": [
    {
     "name": "stdout",
     "output_type": "stream",
     "text": [
      "['Web Developer']\n",
      "Probabilities of all classes:  [[0. 0. 0. 0. 0. 0. 0. 0. 0. 0. 0. 1.]]\n",
      "Probability of Predicted class :  1.0\n"
     ]
    },
    {
     "name": "stderr",
     "output_type": "stream",
     "text": [
      "c:\\Users\\Admin\\anaconda3\\lib\\site-packages\\sklearn\\base.py:450: UserWarning: X does not have valid feature names, but DecisionTreeClassifier was fitted with feature names\n",
      "  warnings.warn(\n",
      "c:\\Users\\Admin\\anaconda3\\lib\\site-packages\\sklearn\\base.py:450: UserWarning: X does not have valid feature names, but DecisionTreeClassifier was fitted with feature names\n",
      "  warnings.warn(\n"
     ]
    }
   ],
   "source": [
    "userdata = [['7','6','6','8','3','5','4', '4', '7', '3', '3', '6','8', \n",
    "                    '7','5','7','4','0','1','0','1']]\n",
    "ynewclass = dtree.predict(userdata)\n",
    "ynew = dtree.predict_proba(userdata)\n",
    "print(ynewclass)\n",
    "print(\"Probabilities of all classes: \", ynew)\n",
    "print(\"Probability of Predicted class : \", np.max(ynew))"
   ]
  },
  {
   "cell_type": "markdown",
   "metadata": {},
   "source": [
    "### **(2) Supprt Vector Machine Classifier**"
   ]
  },
  {
   "cell_type": "code",
   "execution_count": 37,
   "metadata": {
    "execution": {
     "iopub.execute_input": "2021-05-21T09:15:17.589858Z",
     "iopub.status.busy": "2021-05-21T09:15:17.589485Z",
     "iopub.status.idle": "2021-05-21T09:15:22.119128Z",
     "shell.execute_reply": "2021-05-21T09:15:22.117845Z",
     "shell.execute_reply.started": "2021-05-21T09:15:17.589826Z"
    }
   },
   "outputs": [
    {
     "name": "stdout",
     "output_type": "stream",
     "text": [
      "confusion matrics= [[ 1  5  0  6 41 20 18  6 15 12  6  2]\n",
      " [ 1  7  0  3 44  5 15 13  3  9  3  2]\n",
      " [ 0  5  2  5 44 14 19  9  6 10  6  3]\n",
      " [ 2  7  1  3 41 13  9  6  3 10  2  3]\n",
      " [ 2  7  3  4 40 17 18  9  4 13  1  3]\n",
      " [ 1 10  0  4 44 14 12 13  4  8  2  1]\n",
      " [ 1  6  3  2 40  7 13 17 12  8  4  3]\n",
      " [ 0  7  1  6 37 12 16 13 11 11  4  0]\n",
      " [ 0  9  0  3 37 13 14 13  6 12  2  5]\n",
      " [ 0  8  0  3 43 13 15  8  5 11  3  2]\n",
      " [ 1  8  1  3 40 16 18 12  4 10  4  2]\n",
      " [ 2  9  6  2 33 13 10 12 10  9  2  1]]\n",
      "  \n",
      "accuracy= 8.32729905865315\n"
     ]
    }
   ],
   "source": [
    "svm = svm.SVC()\n",
    "svm.fit(x_train, y_train)\n",
    "svm_y_pred = svm.predict(x_test)\n",
    "svm_cm = confusion_matrix(y_test,svm_y_pred)\n",
    "svm_accuracy = accuracy_score(y_test,svm_y_pred)\n",
    "print(\"confusion matrics=\",svm_cm)\n",
    "print(\"  \")\n",
    "print(\"accuracy=\",svm_accuracy*100)"
   ]
  },
  {
   "cell_type": "code",
   "execution_count": 34,
   "metadata": {
    "execution": {
     "iopub.execute_input": "2021-05-21T09:15:22.122725Z",
     "iopub.status.busy": "2021-05-21T09:15:22.122380Z",
     "iopub.status.idle": "2021-05-21T09:15:22.137421Z",
     "shell.execute_reply": "2021-05-21T09:15:22.135363Z",
     "shell.execute_reply.started": "2021-05-21T09:15:22.122694Z"
    }
   },
   "outputs": [
    {
     "name": "stdout",
     "output_type": "stream",
     "text": [
      "['Software Engineer']\n",
      "Probabilities of all classes:  [[ 0.72317165  8.25769355 -0.2843185   7.17416306  3.83458056  4.87344345\n",
      "  10.27976749  9.2644453   1.73122697  7.04310678 10.27669569  2.77294512]]\n",
      "Probability of Predicted class :  10.279767490035844\n"
     ]
    },
    {
     "name": "stderr",
     "output_type": "stream",
     "text": [
      "c:\\Users\\Admin\\anaconda3\\lib\\site-packages\\sklearn\\base.py:450: UserWarning: X does not have valid feature names, but SVC was fitted with feature names\n",
      "  warnings.warn(\n",
      "c:\\Users\\Admin\\anaconda3\\lib\\site-packages\\sklearn\\base.py:450: UserWarning: X does not have valid feature names, but SVC was fitted with feature names\n",
      "  warnings.warn(\n"
     ]
    }
   ],
   "source": [
    "ynewclass = svm.predict(userdata)\n",
    "ynew = svm.decision_function(userdata)\n",
    "print(ynewclass)\n",
    "print(\"Probabilities of all classes: \", ynew)\n",
    "print(\"Probability of Predicted class : \", np.max(ynew))"
   ]
  },
  {
   "cell_type": "markdown",
   "metadata": {},
   "source": [
    "### **(3) Random Forest Classifier**"
   ]
  },
  {
   "cell_type": "code",
   "execution_count": 36,
   "metadata": {
    "execution": {
     "iopub.execute_input": "2021-05-21T09:15:22.140049Z",
     "iopub.status.busy": "2021-05-21T09:15:22.139536Z",
     "iopub.status.idle": "2021-05-21T09:15:23.309802Z",
     "shell.execute_reply": "2021-05-21T09:15:23.308617Z",
     "shell.execute_reply.started": "2021-05-21T09:15:22.140011Z"
    }
   },
   "outputs": [
    {
     "name": "stdout",
     "output_type": "stream",
     "text": [
      "confusion matrics= [[ 9 13 16  3 10 14 13 13 12  9 12  8]\n",
      " [ 8 13  9  7 19  8  5  7  4 10  8  7]\n",
      " [11 10  6 12 15  9 12 12 11  8  8  9]\n",
      " [ 9  8  5 13 25  4  6  6  7  6  4  7]\n",
      " [11 13 12  8 17  9  8  4 10  8 12  9]\n",
      " [ 6  8 12  6 18  6  4 12  9  7 14 11]\n",
      " [ 8  8 10 10 21  6 13  9 11  7  7  6]\n",
      " [11  8  9  8 21 11 13  8  8  7  6  8]\n",
      " [ 7 12 10  5 16 18 12  8 10  5  5  6]\n",
      " [ 6 10 14  6  9 12 12  9  9 10  5  9]\n",
      " [10 12 10  9 12  9 20  7  6 11  9  4]\n",
      " [10  9 11  8 14 11  9  8  7  7  8  7]]\n",
      "  \n",
      "accuracy= 0.8761766835626359\n"
     ]
    }
   ],
   "source": [
    "rf = RandomForestClassifier(random_state = 10)\n",
    "rf.fit(x_train, y_train)\n",
    "rfc_y_pred = rf.predict(x_test)\n",
    "rfc_cm = confusion_matrix(y_test,rfc_y_pred)\n",
    "rfc_accuracy = accuracy_score(y_test,rfc_y_pred)\n",
    "print(\"confusion matrics=\",rfc_cm)\n",
    "print(\"  \")\n",
    "print(\"accuracy=\",rfc_accuracy*10)"
   ]
  },
  {
   "cell_type": "code",
   "execution_count": 36,
   "metadata": {},
   "outputs": [
    {
     "name": "stdout",
     "output_type": "stream",
     "text": [
      "['Web Developer']\n",
      "Probabilities of all classes:  [[0.02 0.12 0.09 0.03 0.12 0.07 0.12 0.06 0.07 0.1  0.07 0.13]]\n",
      "Probability of Predicted class :  0.13\n"
     ]
    },
    {
     "name": "stderr",
     "output_type": "stream",
     "text": [
      "c:\\Users\\Admin\\anaconda3\\lib\\site-packages\\sklearn\\base.py:450: UserWarning: X does not have valid feature names, but RandomForestClassifier was fitted with feature names\n",
      "  warnings.warn(\n",
      "c:\\Users\\Admin\\anaconda3\\lib\\site-packages\\sklearn\\base.py:450: UserWarning: X does not have valid feature names, but RandomForestClassifier was fitted with feature names\n",
      "  warnings.warn(\n"
     ]
    }
   ],
   "source": [
    "\n",
    "ynewclass = rf.predict(userdata)\n",
    "ynew = rf.predict_proba(userdata)\n",
    "print(ynewclass)\n",
    "print(\"Probabilities of all classes: \", ynew)\n",
    "print(\"Probability of Predicted class : \", np.max(ynew))"
   ]
  },
  {
   "cell_type": "markdown",
   "metadata": {},
   "source": [
    "### **Prediction for one instance**"
   ]
  },
  {
   "cell_type": "code",
   "execution_count": 58,
   "metadata": {
    "execution": {
     "iopub.execute_input": "2021-05-21T09:15:25.598336Z",
     "iopub.status.busy": "2021-05-21T09:15:25.597837Z",
     "iopub.status.idle": "2021-05-21T09:15:25.635455Z",
     "shell.execute_reply": "2021-05-21T09:15:25.634610Z",
     "shell.execute_reply.started": "2021-05-21T09:15:25.598208Z"
    }
   },
   "outputs": [
    {
     "name": "stdout",
     "output_type": "stream",
     "text": [
      "['Web Developer']\n",
      "Probabilities of all classes:  [[0. 0. 0. 0. 0. 0. 0. 0. 0. 0. 0. 1.]]\n",
      "Probability of Predicted class :  1.0\n"
     ]
    },
    {
     "name": "stderr",
     "output_type": "stream",
     "text": [
      "c:\\Users\\Admin\\anaconda3\\lib\\site-packages\\sklearn\\base.py:450: UserWarning: X does not have valid feature names, but DecisionTreeClassifier was fitted with feature names\n",
      "  warnings.warn(\n",
      "c:\\Users\\Admin\\anaconda3\\lib\\site-packages\\sklearn\\base.py:450: UserWarning: X does not have valid feature names, but DecisionTreeClassifier was fitted with feature names\n",
      "  warnings.warn(\n"
     ]
    }
   ],
   "source": [
    "userdata = [['7','6','6','8','3','5','4', '4', '7', '3', '3', '6','8', \n",
    "                    '7','5','7','4','0','1','1','0']]\n",
    "ynewclass = dtree.predict(userdata)\n",
    "ynew = dtree.predict_proba(userdata)\n",
    "print(ynewclass)\n",
    "print(\"Probabilities of all classes: \", ynew)\n",
    "print(\"Probability of Predicted class : \", np.max(ynew))"
   ]
  },
  {
   "cell_type": "code",
   "execution_count": 40,
   "metadata": {},
   "outputs": [],
   "source": [
    "import pickle \n",
    "pickle.dump(dtree,open('weights.pkl','wb'))"
   ]
  },
  {
   "cell_type": "code",
   "execution_count": null,
   "metadata": {},
   "outputs": [],
   "source": []
  },
  {
   "cell_type": "code",
   "execution_count": 170,
   "metadata": {},
   "outputs": [],
   "source": [
    "data=['5','4','3','0','yes','no','information security','testing','poor','medium','data engineering','testing','BPA','yes','Travel','Technical','smart worker','yes','no']\n"
   ]
  },
  {
   "cell_type": "code",
   "execution_count": 171,
   "metadata": {},
   "outputs": [
    {
     "name": "stdout",
     "output_type": "stream",
     "text": [
      "['5', '4', '3', '0', 'yes', 'no', 'information security', 'testing', 'poor', 'medium', 'data engineering', 'testing', 'BPA', 'yes', 'Travel', 'Technical', 'smart worker', 'yes', 'no']\n"
     ]
    }
   ],
   "source": [
    "# print(data)\n",
    "data=json=sys.argv[1]"
   ]
  },
  {
   "attachments": {},
   "cell_type": "markdown",
   "metadata": {},
   "source": [
    "## **User data**"
   ]
  },
  {
   "cell_type": "code",
   "execution_count": 172,
   "metadata": {},
   "outputs": [],
   "source": [
    "test_data=[]\n",
    "\n",
    "test_data.append([data[0],data[1],data[2],data[3]])"
   ]
  },
  {
   "cell_type": "code",
   "execution_count": 173,
   "metadata": {},
   "outputs": [],
   "source": [
    "#self learning and extra course\n",
    "if(data[4]=='no'):\n",
    "    test_data[0].append('0')\n",
    "else:\n",
    "    test_data[0].append('1')\n",
    "\n",
    "if(data[5]=='no'):\n",
    "    test_data[0].append('0')\n",
    "else:\n",
    "    test_data[0].append('1')        "
   ]
  },
  {
   "cell_type": "code",
   "execution_count": 15,
   "metadata": {},
   "outputs": [
    {
     "ename": "NameError",
     "evalue": "name 'dic' is not defined",
     "output_type": "error",
     "traceback": [
      "\u001b[1;31m---------------------------------------------------------------------------\u001b[0m",
      "\u001b[1;31mNameError\u001b[0m                                 Traceback (most recent call last)",
      "\u001b[1;32md:\\projects\\Career-prediction-system-master\\Career-prediction-system\\python\\careerPredictionModel.ipynb Cell 37\u001b[0m in \u001b[0;36m<cell line: 4>\u001b[1;34m()\u001b[0m\n\u001b[0;32m      <a href='vscode-notebook-cell:/d%3A/projects/Career-prediction-system-master/Career-prediction-system/python/careerPredictionModel.ipynb#X51sZmlsZQ%3D%3D?line=0'>1</a>\u001b[0m category_cols \u001b[39m=\u001b[39m df[[\u001b[39m'\u001b[39m\u001b[39mcertifications\u001b[39m\u001b[39m'\u001b[39m, \u001b[39m'\u001b[39m\u001b[39mworkshops\u001b[39m\u001b[39m'\u001b[39m, \u001b[39m'\u001b[39m\u001b[39mInterested subjects\u001b[39m\u001b[39m'\u001b[39m, \u001b[39m'\u001b[39m\u001b[39minterested career area \u001b[39m\u001b[39m'\u001b[39m, \u001b[39m'\u001b[39m\u001b[39mType of company want to settle in?\u001b[39m\u001b[39m'\u001b[39m, \n\u001b[0;32m      <a href='vscode-notebook-cell:/d%3A/projects/Career-prediction-system-master/Career-prediction-system/python/careerPredictionModel.ipynb#X51sZmlsZQ%3D%3D?line=1'>2</a>\u001b[0m                     \u001b[39m'\u001b[39m\u001b[39mInterested Type of Books\u001b[39m\u001b[39m'\u001b[39m]]\n\u001b[1;32m----> <a href='vscode-notebook-cell:/d%3A/projects/Career-prediction-system-master/Career-prediction-system/python/careerPredictionModel.ipynb#X51sZmlsZQ%3D%3D?line=3'>4</a>\u001b[0m dict1\u001b[39m=\u001b[39mdic[\u001b[39m'\u001b[39m\u001b[39mcertifications\u001b[39m\u001b[39m'\u001b[39m]\n\u001b[0;32m      <a href='vscode-notebook-cell:/d%3A/projects/Career-prediction-system-master/Career-prediction-system/python/careerPredictionModel.ipynb#X51sZmlsZQ%3D%3D?line=4'>5</a>\u001b[0m dict2\u001b[39m=\u001b[39mdic[\u001b[39m'\u001b[39m\u001b[39mworkshops\u001b[39m\u001b[39m'\u001b[39m]\n\u001b[0;32m      <a href='vscode-notebook-cell:/d%3A/projects/Career-prediction-system-master/Career-prediction-system/python/careerPredictionModel.ipynb#X51sZmlsZQ%3D%3D?line=5'>6</a>\u001b[0m dict3\u001b[39m=\u001b[39mdic[\u001b[39m'\u001b[39m\u001b[39mInterested subjects\u001b[39m\u001b[39m'\u001b[39m]\n",
      "\u001b[1;31mNameError\u001b[0m: name 'dic' is not defined"
     ]
    }
   ],
   "source": [
    "category_cols = df[['certifications', 'workshops', 'Interested subjects', 'interested career area ', 'Type of company want to settle in?', \n",
    "                    'Interested Type of Books']]\n",
    "                    \n",
    "dict1=dic['certifications']\n",
    "dict2=dic['workshops']\n",
    "dict3=dic['Interested subjects']\n",
    "dict4=dic['interested career area ']\n",
    "dict5=dic['Type of company want to settle in?']\n",
    "dict6=dic['Interested Type of Books'] \n",
    "\n",
    "key = list(filter(lambda x: dict1[x] == data[6], dict1))\n",
    "test_data[0].append(str(key[0]))\n",
    "\n",
    "key = list(filter(lambda x: dict2[x] == data[7], dict2))\n",
    "test_data[0].append(str(key[0]))\n"
   ]
  },
  {
   "cell_type": "code",
   "execution_count": 175,
   "metadata": {},
   "outputs": [],
   "source": [
    "# for reading and memory\n",
    "x=data[8]\n",
    "if x=='poor':\n",
    "    test_data[0].append('0')\n",
    "elif x=='medium':\n",
    "    test_data[0].append('1')\n",
    "else:\n",
    "    test_data[0].append('2')   \n",
    "\n",
    "x=data[9]\n",
    "if x=='poor':\n",
    "    test_data[0].append('0')\n",
    "elif x=='medium':\n",
    "    test_data[0].append('1')\n",
    "else:\n",
    "    test_data[0].append('2')\n"
   ]
  },
  {
   "cell_type": "code",
   "execution_count": 176,
   "metadata": {},
   "outputs": [],
   "source": [
    "# for subjects, career and company\n",
    "key = list(filter(lambda x: dict3[x] == data[10], dict3))\n",
    "test_data[0].append(str(key[0]))\n",
    "\n",
    "\n",
    "key = list(filter(lambda x: dict4[x] == data[11], dict4))\n",
    "test_data[0].append(str(key[0]))\n",
    "\n",
    "\n",
    "key = list(filter(lambda x: dict5[x] == data[12], dict5))\n",
    "test_data[0].append(str(key[0]))\n"
   ]
  },
  {
   "cell_type": "code",
   "execution_count": 177,
   "metadata": {},
   "outputs": [],
   "source": [
    "# for input from seniors\n",
    "\n",
    "if data[13]=='no':\n",
    "    test_data[0].append('0')\n",
    "else:\n",
    "    test_data[0].append('1')\n"
   ]
  },
  {
   "cell_type": "code",
   "execution_count": 178,
   "metadata": {},
   "outputs": [],
   "source": [
    "#for books\n",
    "key = list(filter(lambda x: dict6[x] == data[14], dict6))\n",
    "test_data[0].append(str(key[0]))"
   ]
  },
  {
   "cell_type": "code",
   "execution_count": 179,
   "metadata": {},
   "outputs": [],
   "source": [
    "# for management and hard work\n",
    "# manage tech \n",
    "# hard smart\n",
    "\n",
    "if data[15]=='Management':\n",
    "    test_data[0].append('1')\n",
    "    test_data[0].append('0')\n",
    "else:\n",
    "    test_data[0].append('0')\n",
    "    test_data[0].append('1')    \n",
    "\n",
    "\n",
    "if data[16]=='Hard worker':\n",
    "    test_data[0].append('1')\n",
    "    test_data[0].append('0')\n",
    "else:\n",
    "    test_data[0].append('0')\n",
    "    test_data[0].append('1')    "
   ]
  },
  {
   "cell_type": "code",
   "execution_count": 180,
   "metadata": {},
   "outputs": [],
   "source": [
    "#worked in team and introvert\n",
    "if data[17]=='no':\n",
    "    test_data[0].append('0')\n",
    "else:\n",
    "    test_data[0].append('1')\n",
    "\n",
    "if data[18]=='no':\n",
    "    test_data[0].append('0')\n",
    "else:\n",
    "    test_data[0].append('1')        "
   ]
  },
  {
   "cell_type": "code",
   "execution_count": 192,
   "metadata": {},
   "outputs": [
    {
     "name": "stdout",
     "output_type": "stream",
     "text": [
      "['Software Quality Assurance (QA) / Testing']\n"
     ]
    },
    {
     "name": "stderr",
     "output_type": "stream",
     "text": [
      "c:\\Users\\Admin\\anaconda3\\lib\\site-packages\\sklearn\\base.py:450: UserWarning: X does not have valid feature names, but RandomForestClassifier was fitted with feature names\n",
      "  warnings.warn(\n"
     ]
    }
   ],
   "source": [
    "ans=rf.predict(test_data)\n",
    "print(ans)"
   ]
  },
  {
   "cell_type": "code",
   "execution_count": null,
   "metadata": {},
   "outputs": [],
   "source": []
  }
 ],
 "metadata": {
  "kernelspec": {
   "display_name": "base",
   "language": "python",
   "name": "python3"
  },
  "language_info": {
   "codemirror_mode": {
    "name": "ipython",
    "version": 3
   },
   "file_extension": ".py",
   "mimetype": "text/x-python",
   "name": "python",
   "nbconvert_exporter": "python",
   "pygments_lexer": "ipython3",
   "version": "3.9.12"
  },
  "vscode": {
   "interpreter": {
    "hash": "2043299c89c8cd0b4d1a6f5cf4529bd58e6a4e0fe3181a25e0d328c821cdc5c5"
   }
  }
 },
 "nbformat": 4,
 "nbformat_minor": 4
}
