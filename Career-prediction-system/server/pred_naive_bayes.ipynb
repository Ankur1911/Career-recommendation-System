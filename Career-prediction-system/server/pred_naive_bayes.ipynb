{
 "cells": [
  {
   "cell_type": "code",
   "execution_count": 1,
   "id": "166cceac",
   "metadata": {},
   "outputs": [],
   "source": [
    "import pandas as pd\n",
    "import numpy as np\n",
    "from sklearn import decomposition\n",
    "import matplotlib.pyplot as plt"
   ]
  },
  {
   "cell_type": "code",
   "execution_count": 2,
   "id": "506a19a4",
   "metadata": {},
   "outputs": [],
   "source": [
    "import sys\n",
    "# print(sys.argv[1])"
   ]
  },
  {
   "cell_type": "code",
   "execution_count": 3,
   "id": "74a719d4",
   "metadata": {},
   "outputs": [],
   "source": [
    "dataset = pd.read_csv(\"roo_data.csv\")"
   ]
  },
  {
   "cell_type": "code",
   "execution_count": 5,
   "id": "00340938",
   "metadata": {},
   "outputs": [],
   "source": [
    "#---------------Applying OneHot & Lable  Encoding-----------#\n",
    "from sklearn.preprocessing import LabelEncoder, OneHotEncoder\n",
    "labelencoder = LabelEncoder()\n",
    "# xa=0.813664\n"
   ]
  },
  {
   "cell_type": "code",
   "execution_count": 6,
   "id": "c743c312",
   "metadata": {},
   "outputs": [],
   "source": [
    "data = dataset.iloc[:,:-1].values\n",
    "label = dataset.iloc[:,-1].values\n"
   ]
  },
  {
   "cell_type": "code",
   "execution_count": 7,
   "id": "d6e78cf6",
   "metadata": {},
   "outputs": [],
   "source": [
    "#---------------conversion of all categorial column values to vector/numerical--------#\n",
    "data_t=np.zeros(shape=(20000, 31))\n",
    "for i in range(14,31):\n",
    "    data_t[:,i] = labelencoder.fit_transform(data[:,i])\n",
    "   "
   ]
  },
  {
   "cell_type": "code",
   "execution_count": 9,
   "id": "04135835",
   "metadata": {},
   "outputs": [],
   "source": [
    "#--------------normalizing the non-categorial column values---------#\n",
    "# from sklearn.preprocessing import Normalizer\n",
    "data1=data[:,:14]\n",
    "# normalized_data = Normalizer().fit_transform(data1)\n",
    "# print(normalized_data.shape)\n",
    "# da=0.8383\n",
    "# normalized_data\n",
    "data2=data_t[:,14:]\n",
    "# data2.shape\n",
    "df1 = np.append(data1,data2,axis=1)"
   ]
  },
  {
   "cell_type": "code",
   "execution_count": 17,
   "id": "7ab590bc",
   "metadata": {},
   "outputs": [],
   "source": [
    "#--------------------------Adding Headers & convert np to pandas-----------------------#\n",
    "X1 = pd.DataFrame(df1,columns=['Acedamic percentage in Operating Systems', 'percentage in Algorithms',\n",
    "       'Percentage in Programming Concepts',\n",
    "       'Percentage in Software Engineering', 'Percentage in Computer Networks',\n",
    "       'Percentage in Electronics Subjects',\n",
    "       'Percentage in Computer Architecture', 'Percentage in Mathematics',\n",
    "       'Percentage in Communication skills', 'Hours working per day',\n",
    "       'Logical quotient rating', 'hackathons', 'coding skills rating',\n",
    "       'public speaking points', 'can work long time before system?',\n",
    "       'self-learning capability?', 'certifications',\n",
    "       'talenttests taken?',\n",
    "       'reading and writing skills', 'memory capability score',\n",
    "       'Interested subjects', 'interested career area ', 'Job/Higher Studies?',\n",
    "       'Type of company want to settle in?',\n",
    "       'Taken inputs from seniors or elders', 'interested in games',\n",
    "       'Interested Type of Books', \n",
    "       'Gentle or Tuff behaviour?',\n",
    "       'Management or Technical',\n",
    "       'worked in teams ever?', 'Introvert'])\n",
    "# X1.head()"
   ]
  },
  {
   "cell_type": "code",
   "execution_count": 19,
   "id": "19012058",
   "metadata": {},
   "outputs": [],
   "source": [
    "#------------------Encoding Final Output column Values------------#\n",
    "label = labelencoder.fit_transform(label)\n",
    "# print(len(label))\n",
    "y=pd.DataFrame(label,columns=[\"Suggested Job Role\"])\n",
    "# y.head()"
   ]
  },
  {
   "cell_type": "code",
   "execution_count": 20,
   "id": "a89d21a5",
   "metadata": {},
   "outputs": [],
   "source": [
    "l2=labelencoder.inverse_transform(label)\n",
    "# l2"
   ]
  },
  {
   "cell_type": "code",
   "execution_count": 21,
   "id": "18fd5986",
   "metadata": {},
   "outputs": [],
   "source": [
    "dict={}\n",
    "for i in label:\n",
    "    dict[i]=l2[i]\n",
    "    \n",
    "# dict\n",
    "# res = list({ele for val in dict.values() for ele in val})\n",
    "# res"
   ]
  },
  {
   "cell_type": "code",
   "execution_count": 22,
   "id": "e1c1f519",
   "metadata": {},
   "outputs": [],
   "source": [
    "from sklearn.model_selection import train_test_split\n",
    "X_train, X_test, y_train, y_test = train_test_split(X1, np.ravel(y), test_size=0.4, random_state=1)\n",
    "  \n",
    "# training the model on training set\n",
    "from sklearn.naive_bayes import GaussianNB\n",
    "gnb = GaussianNB()\n",
    "gnb.fit(X_train, y_train)\n",
    "from sklearn.metrics import accuracy_score  \n",
    "# making predictions on the testing set\n",
    "y_pred = gnb.predict(X_test)\n",
    "\n"
   ]
  },
  {
   "cell_type": "code",
   "execution_count": 24,
   "id": "d2d1626d",
   "metadata": {},
   "outputs": [
    {
     "name": "stdout",
     "output_type": "stream",
     "text": [
      "11\n"
     ]
    },
    {
     "name": "stderr",
     "output_type": "stream",
     "text": [
      "C:\\Users\\vivek\\AppData\\Local\\Packages\\PythonSoftwareFoundation.Python.3.10_qbz5n2kfra8p0\\LocalCache\\local-packages\\Python310\\site-packages\\sklearn\\base.py:409: UserWarning: X does not have valid feature names, but GaussianNB was fitted with feature names\n",
      "  warnings.warn(\n"
     ]
    }
   ],
   "source": [
    "dict1={\n",
    "    0:'2',\n",
    "    1:'56',\n",
    "    2:'61',\n",
    "    3:'70',\n",
    "    4:'20',\n",
    "    5:'12',\n",
    "    6:'46',\n",
    "    7:'69',\n",
    "    8:'25',\n",
    "    9:'8',\n",
    "    10:'2',\n",
    "    11:'1',\n",
    "    12:'78',\n",
    "    13:'80',\n",
    "    14:'yes',\n",
    "    15:'no',\n",
    "    16:'python',\n",
    "    17:'yes',\n",
    "    18:'excellent',\n",
    "    19:'poor',\n",
    "    20:'IOT',\n",
    "    21:'security',\n",
    "    22:'job',\n",
    "    23:'Testing and Maintainance Services',\n",
    "    24:'yes',\n",
    "    25:'no',\n",
    "    26:'Travel',\n",
    "    27:'gentle',\n",
    "    28:'Technical',\n",
    "    29:'yes',\n",
    "    30:'no'\n",
    "}\n",
    "a1=[]\n",
    "\n",
    "for i in dict1:\n",
    "    a1.append(dict1[i])\n",
    "x=np.array(a1)\n",
    "\n",
    "tst_data=np.zeros(31)\n",
    "tst_data1=np.zeros(14)\n",
    "for i in range(14,31):\n",
    "    labelencoder.fit(data[:,i])\n",
    "    tst_data[i] = labelencoder.transform([(x[i])])  \n",
    "    \n",
    "for i in range(0,14):\n",
    "    tst_data1[i]=x[i]\n",
    "\n",
    "tst_data2=tst_data[14:]\n",
    "df2 = np.append(np.array([tst_data1]),np.array([tst_data2]),axis=1)\n",
    "a=gnb.predict(np.array(df2))\n",
    "\n",
    "print(dict[a[0]])\n",
    "\n"
   ]
  },
  {
   "cell_type": "code",
   "execution_count": null,
   "id": "e756a4f1",
   "metadata": {},
   "outputs": [],
   "source": []
  },
  {
   "cell_type": "code",
   "execution_count": null,
   "id": "a1c33dd3",
   "metadata": {},
   "outputs": [],
   "source": []
  }
 ],
 "metadata": {
  "kernelspec": {
   "display_name": "Python 3",
   "language": "python",
   "name": "python3"
  },
  "language_info": {
   "codemirror_mode": {
    "name": "ipython",
    "version": 3
   },
   "file_extension": ".py",
   "mimetype": "text/x-python",
   "name": "python",
   "nbconvert_exporter": "python",
   "pygments_lexer": "ipython3",
   "version": "3.9.9"
  },
  "vscode": {
   "interpreter": {
    "hash": "231b793e72510f63263cf75731d759da8776d8c74c3ed2dbefa0f0827e58fa6e"
   }
  }
 },
 "nbformat": 4,
 "nbformat_minor": 5
}
